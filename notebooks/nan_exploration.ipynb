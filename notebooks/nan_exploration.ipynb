{
 "cells": [
  {
   "cell_type": "code",
   "execution_count": 1,
   "id": "37fe5a13-59ae-474e-a786-14bb7a6b51db",
   "metadata": {},
   "outputs": [],
   "source": [
    "\"\"\"\n",
    "Data exploration notebook for viewing missing values in suicide study dataset.\n",
    "\"\"\"\n",
    "import sys\n",
    "from pathlib import Path\n",
    "import pandas as pd\n",
    "import os\n",
    "\n",
    "# Add project root to Python path\n",
    "PROJECT_ROOT = Path.cwd().parent\n",
    "\n",
    "if \"notebooks\" in Path.cwd().parts:\n",
    "    os.chdir(PROJECT_ROOT)\n",
    "    \n",
    "if str(PROJECT_ROOT) not in sys.path:\n",
    "    sys.path.append(str(PROJECT_ROOT))\n",
    "\n",
    "# Import custom utility functions\n",
    "from src.config.utils import read_csv, read_excel, write_excel\n",
    "from src.config.config import DATA_DIR, RESULTS_DIR\n"
   ]
  },
  {
   "cell_type": "code",
   "execution_count": 17,
   "metadata": {},
   "outputs": [],
   "source": [
    "def analyze_dataframe_columns(dataframe):\n",
    "    \"\"\"\n",
    "    Analyzes DataFrame columns by calculating missing data statistics and unique value counts.\n",
    "\n",
    "    Args:\n",
    "        dataframe (pd.DataFrame): Input DataFrame for analysis.\n",
    "\n",
    "    Returns:\n",
    "        pd.DataFrame: Analysis results with columns:\n",
    "            - column_name: Name of each column\n",
    "            - missing_values_total: Count of missing values\n",
    "            - missing_values_percent: Percentage of missing values\n",
    "            - unique_values_count: Count of unique values\n",
    "            - unique_value_counts: String of unique values and their counts\n",
    "    \"\"\"\n",
    "    results = []\n",
    "\n",
    "    for col in dataframe.columns:\n",
    "        missing_total = dataframe[col].isnull().sum()\n",
    "        missing_percent = 100 * missing_total / len(dataframe)\n",
    "\n",
    "        unique_count = dataframe[col].nunique()\n",
    "        value_counts = dataframe[col].value_counts().to_dict()\n",
    "        value_counts_str = \", \".join([f\"{k}: {v}\" for k, v in value_counts.items()])\n",
    "\n",
    "        results.append(\n",
    "            [col, missing_total, missing_percent, unique_count, value_counts_str]\n",
    "        )\n",
    "\n",
    "    analysis_df = pd.DataFrame(\n",
    "        results,\n",
    "        columns=[\n",
    "            \"column_name\",\n",
    "            \"missing_values_total\",\n",
    "            \"missing_values_percent\",\n",
    "            \"unique_values_count\",\n",
    "            \"unique_value_counts\",\n",
    "        ],\n",
    "    )\n",
    "\n",
    "    # Sort the DataFrame by missing_values_total in descending order\n",
    "    analysis_df = analysis_df.sort_values(by=\"missing_values_total\", ascending=True)\n",
    "\n",
    "    return analysis_df\n",
    "\n",
    "\n",
    "def nan_exploration_in_rows(dataframe):\n",
    "    \"\"\"\n",
    "    Analyzes NaN distribution across DataFrame rows.\n",
    "\n",
    "    Args:\n",
    "        dataframe (pd.DataFrame): Input DataFrame for analysis.\n",
    "\n",
    "    Returns:\n",
    "        pd.DataFrame: Analysis results with columns:\n",
    "            - NaN_count: Number of NaN values in each row\n",
    "            - Total: Count of rows with that NaN count\n",
    "            - Percent: Percentage of rows with that NaN count\n",
    "    \"\"\"\n",
    "    nan_counts = dataframe.isna().sum(axis=1).value_counts()\n",
    "    full_index = list(range(0, len(dataframe.columns) + 1))\n",
    "    nan_counts = nan_counts.reindex(full_index, fill_value=0)\n",
    "    nan_counts = nan_counts.sort_index()\n",
    "    nan_counts_percent = (nan_counts / len(dataframe)) * 100\n",
    "\n",
    "    missing_data_rows = pd.concat(\n",
    "        [\n",
    "            pd.Series(full_index, name=\"NaN_count\"),\n",
    "            nan_counts.rename(\"Total\"),\n",
    "            nan_counts_percent.rename(\"Percent\"),\n",
    "        ],\n",
    "        axis=1,\n",
    "    )\n",
    "\n",
    "    return missing_data_rows"
   ]
  },
  {
   "cell_type": "markdown",
   "metadata": {},
   "source": [
    "# raw data"
   ]
  },
  {
   "cell_type": "code",
   "execution_count": 18,
   "metadata": {},
   "outputs": [],
   "source": [
    "# Data import\n",
    "csv_file_path = DATA_DIR / \"raw\" / \"final_samobojstwa_2013_2022.csv\"\n",
    "df_raw_2013_2022 = read_csv(csv_file_path, low_memory=False)\n",
    "\n",
    "excel_file_path = DATA_DIR / \"raw\" / \"Samobojstwa_2023.xlsx\"\n",
    "df_raw_2023 = read_excel(excel_file_path)"
   ]
  },
  {
   "cell_type": "code",
   "execution_count": 19,
   "metadata": {},
   "outputs": [
    {
     "data": {
      "text/plain": [
       "Index(['ID samobójcy', 'Data raportu [RRRRMM]', 'Przedział wiekowy', 'Płeć',\n",
       "       'Stan cywilny', 'Wykształcenie', 'Informacje o pracy i nauce',\n",
       "       'Źródło utrzymania', 'Czy samobójstwo zakończyło się zgonem',\n",
       "       'Miejsce zamachu', 'Sposób popełnienia', 'Powód zamachu',\n",
       "       'Powód zamachu 2', 'Powód zamachu 3', 'Powód zamachu 4',\n",
       "       'Stan świadomości', 'Informacje o używaniu substancji',\n",
       "       'Informacje dotyczące leczenia z powodu alkoholizmu/narkomanii'],\n",
       "      dtype='object')"
      ]
     },
     "execution_count": 19,
     "metadata": {},
     "output_type": "execute_result"
    }
   ],
   "source": [
    "df_raw_2013_2022.columns"
   ]
  },
  {
   "cell_type": "code",
   "execution_count": 20,
   "metadata": {},
   "outputs": [
    {
     "data": {
      "text/plain": [
       "(113196, 18)"
      ]
     },
     "execution_count": 20,
     "metadata": {},
     "output_type": "execute_result"
    }
   ],
   "source": [
    "df_raw_2013_2022.shape"
   ]
  },
  {
   "cell_type": "code",
   "execution_count": 21,
   "metadata": {},
   "outputs": [
    {
     "data": {
      "text/plain": [
       "113196"
      ]
     },
     "execution_count": 21,
     "metadata": {},
     "output_type": "execute_result"
    }
   ],
   "source": [
    "df_raw_2013_2022[\"ID samobójcy\"].nunique()"
   ]
  },
  {
   "cell_type": "code",
   "execution_count": 22,
   "metadata": {},
   "outputs": [
    {
     "data": {
      "text/plain": [
       "Index(['ID samobójcy', 'Data rejestracji', 'Przedział wiekowy', 'Płeć',\n",
       "       'Stan cywilny', 'Wykształcenie', 'Informacje o pracy i nauce',\n",
       "       'Źródło utrzymania', 'Czy samobójstwo zakończyło się zgonem',\n",
       "       'Miejsce zamachu', 'Klasa miejscowości', 'Sposób popełnienia',\n",
       "       'Powód zamachu *', 'Powód zamachu 2', 'Powód zamachu 3',\n",
       "       'Powód zamachu 4', 'Stan świadomości *',\n",
       "       'Informacje dotyczące stanu zdrowia *',\n",
       "       'Informacje dotyczące leczenia z powodu alkoholizmu/narkomanii',\n",
       "       'W ciągu ostatniego miesiąca sprawca zdarzenia miał przynajmniej jeden raz kontakt z *'],\n",
       "      dtype='object')"
      ]
     },
     "execution_count": 22,
     "metadata": {},
     "output_type": "execute_result"
    }
   ],
   "source": [
    "df_raw_2023.columns"
   ]
  },
  {
   "cell_type": "code",
   "execution_count": 23,
   "metadata": {},
   "outputs": [
    {
     "data": {
      "text/plain": [
       "(15136, 20)"
      ]
     },
     "execution_count": 23,
     "metadata": {},
     "output_type": "execute_result"
    }
   ],
   "source": [
    "df_raw_2023.shape"
   ]
  },
  {
   "cell_type": "code",
   "execution_count": 24,
   "metadata": {},
   "outputs": [
    {
     "data": {
      "text/plain": [
       "15134"
      ]
     },
     "execution_count": 24,
     "metadata": {},
     "output_type": "execute_result"
    }
   ],
   "source": [
    "df_raw_2023[\"ID samobójcy\"].nunique()"
   ]
  },
  {
   "cell_type": "code",
   "execution_count": 25,
   "metadata": {},
   "outputs": [
    {
     "data": {
      "text/html": [
       "<div>\n",
       "<style scoped>\n",
       "    .dataframe tbody tr th:only-of-type {\n",
       "        vertical-align: middle;\n",
       "    }\n",
       "\n",
       "    .dataframe tbody tr th {\n",
       "        vertical-align: top;\n",
       "    }\n",
       "\n",
       "    .dataframe thead th {\n",
       "        text-align: right;\n",
       "    }\n",
       "</style>\n",
       "<table border=\"1\" class=\"dataframe\">\n",
       "  <thead>\n",
       "    <tr style=\"text-align: right;\">\n",
       "      <th></th>\n",
       "      <th>ID samobójcy</th>\n",
       "      <th>Data rejestracji</th>\n",
       "      <th>Przedział wiekowy</th>\n",
       "      <th>Płeć</th>\n",
       "      <th>Stan cywilny</th>\n",
       "      <th>Wykształcenie</th>\n",
       "      <th>Informacje o pracy i nauce</th>\n",
       "      <th>Źródło utrzymania</th>\n",
       "      <th>Czy samobójstwo zakończyło się zgonem</th>\n",
       "      <th>Miejsce zamachu</th>\n",
       "      <th>Klasa miejscowości</th>\n",
       "      <th>Sposób popełnienia</th>\n",
       "      <th>Powód zamachu *</th>\n",
       "      <th>Powód zamachu 2</th>\n",
       "      <th>Powód zamachu 3</th>\n",
       "      <th>Powód zamachu 4</th>\n",
       "      <th>Stan świadomości *</th>\n",
       "      <th>Informacje dotyczące stanu zdrowia *</th>\n",
       "      <th>Informacje dotyczące leczenia z powodu alkoholizmu/narkomanii</th>\n",
       "      <th>W ciągu ostatniego miesiąca sprawca zdarzenia miał przynajmniej jeden raz kontakt z *</th>\n",
       "    </tr>\n",
       "  </thead>\n",
       "  <tbody>\n",
       "    <tr>\n",
       "      <th>1399</th>\n",
       "      <td>NaN</td>\n",
       "      <td>NaT</td>\n",
       "      <td>30-34</td>\n",
       "      <td>Mężczyzna</td>\n",
       "      <td>Kawaler/panna</td>\n",
       "      <td>Brak danych/nieustalone</td>\n",
       "      <td>Bezrobotny</td>\n",
       "      <td>Brak danych/nieustalony</td>\n",
       "      <td>N</td>\n",
       "      <td>Mieszkanie/dom</td>\n",
       "      <td>Miasto o liczbie ludności 100 000 – 499 999</td>\n",
       "      <td>Zażycie innych leków</td>\n",
       "      <td>Nieustalony</td>\n",
       "      <td>NaN</td>\n",
       "      <td>NaN</td>\n",
       "      <td>NaN</td>\n",
       "      <td>Pod wpływem leków</td>\n",
       "      <td>Nadużywał(a) alkoholu</td>\n",
       "      <td>NaN</td>\n",
       "      <td>Brak możliwości ustalenia</td>\n",
       "    </tr>\n",
       "    <tr>\n",
       "      <th>5600</th>\n",
       "      <td>NaN</td>\n",
       "      <td>NaT</td>\n",
       "      <td>80-84</td>\n",
       "      <td>Kobieta</td>\n",
       "      <td>Wdowiec/wdowa</td>\n",
       "      <td>Podstawowe</td>\n",
       "      <td>Brak danych/nieustalono</td>\n",
       "      <td>Emerytura</td>\n",
       "      <td>N</td>\n",
       "      <td>Mieszkanie/dom</td>\n",
       "      <td>Miasto o liczbie ludności do 19 999</td>\n",
       "      <td>Zażycie środków nasennych/leków psychotropowych</td>\n",
       "      <td>Śmierć bliskiej osoby</td>\n",
       "      <td>NaN</td>\n",
       "      <td>NaN</td>\n",
       "      <td>NaN</td>\n",
       "      <td>Pod wpływem leków</td>\n",
       "      <td>Leczony(a) psychiatrycznie</td>\n",
       "      <td>NaN</td>\n",
       "      <td>Placówką leczniczą</td>\n",
       "    </tr>\n",
       "  </tbody>\n",
       "</table>\n",
       "</div>"
      ],
      "text/plain": [
       "     ID samobójcy Data rejestracji Przedział wiekowy       Płeć  \\\n",
       "1399          NaN              NaT             30-34  Mężczyzna   \n",
       "5600          NaN              NaT             80-84    Kobieta   \n",
       "\n",
       "       Stan cywilny            Wykształcenie Informacje o pracy i nauce  \\\n",
       "1399  Kawaler/panna  Brak danych/nieustalone                 Bezrobotny   \n",
       "5600  Wdowiec/wdowa               Podstawowe    Brak danych/nieustalono   \n",
       "\n",
       "            Źródło utrzymania Czy samobójstwo zakończyło się zgonem  \\\n",
       "1399  Brak danych/nieustalony                                     N   \n",
       "5600                Emerytura                                     N   \n",
       "\n",
       "     Miejsce zamachu                           Klasa miejscowości  \\\n",
       "1399  Mieszkanie/dom  Miasto o liczbie ludności 100 000 – 499 999   \n",
       "5600  Mieszkanie/dom          Miasto o liczbie ludności do 19 999   \n",
       "\n",
       "                                   Sposób popełnienia        Powód zamachu *  \\\n",
       "1399                             Zażycie innych leków            Nieustalony   \n",
       "5600  Zażycie środków nasennych/leków psychotropowych  Śmierć bliskiej osoby   \n",
       "\n",
       "     Powód zamachu 2 Powód zamachu 3 Powód zamachu 4 Stan świadomości *  \\\n",
       "1399             NaN             NaN             NaN  Pod wpływem leków   \n",
       "5600             NaN             NaN             NaN  Pod wpływem leków   \n",
       "\n",
       "     Informacje dotyczące stanu zdrowia *  \\\n",
       "1399                Nadużywał(a) alkoholu   \n",
       "5600           Leczony(a) psychiatrycznie   \n",
       "\n",
       "     Informacje dotyczące leczenia z powodu alkoholizmu/narkomanii  \\\n",
       "1399                                                NaN              \n",
       "5600                                                NaN              \n",
       "\n",
       "     W ciągu ostatniego miesiąca sprawca zdarzenia miał przynajmniej jeden raz kontakt z *  \n",
       "1399                          Brak możliwości ustalenia                                     \n",
       "5600                                 Placówką leczniczą                                     "
      ]
     },
     "execution_count": 25,
     "metadata": {},
     "output_type": "execute_result"
    }
   ],
   "source": [
    "df_raw_2023[df_raw_2023[\"ID samobójcy\"].duplicated(keep=False)]"
   ]
  },
  {
   "cell_type": "code",
   "execution_count": 26,
   "metadata": {},
   "outputs": [],
   "source": [
    "df_raw_2023.rename(columns={\"ID samobójcy\": \"ID\"}, inplace=True)\n",
    "df_raw_2013_2022.rename(columns={\"ID samobójcy\": \"ID\"}, inplace=True)"
   ]
  },
  {
   "cell_type": "code",
   "execution_count": 27,
   "metadata": {},
   "outputs": [
    {
     "data": {
      "text/plain": [
       "(128332, 1)"
      ]
     },
     "execution_count": 27,
     "metadata": {},
     "output_type": "execute_result"
    }
   ],
   "source": [
    "df_raw = pd.concat([df_raw_2013_2022[[\"ID\"]], df_raw_2023[[\"ID\"]]], ignore_index=True)\n",
    "df_raw.shape"
   ]
  },
  {
   "cell_type": "code",
   "execution_count": 28,
   "metadata": {},
   "outputs": [
    {
     "data": {
      "text/plain": [
       "128330"
      ]
     },
     "execution_count": 28,
     "metadata": {},
     "output_type": "execute_result"
    }
   ],
   "source": [
    "df_raw[\"ID\"].nunique()"
   ]
  },
  {
   "cell_type": "code",
   "execution_count": 29,
   "metadata": {},
   "outputs": [
    {
     "data": {
      "text/html": [
       "<div>\n",
       "<style scoped>\n",
       "    .dataframe tbody tr th:only-of-type {\n",
       "        vertical-align: middle;\n",
       "    }\n",
       "\n",
       "    .dataframe tbody tr th {\n",
       "        vertical-align: top;\n",
       "    }\n",
       "\n",
       "    .dataframe thead th {\n",
       "        text-align: right;\n",
       "    }\n",
       "</style>\n",
       "<table border=\"1\" class=\"dataframe\">\n",
       "  <thead>\n",
       "    <tr style=\"text-align: right;\">\n",
       "      <th></th>\n",
       "      <th>ID</th>\n",
       "    </tr>\n",
       "  </thead>\n",
       "  <tbody>\n",
       "    <tr>\n",
       "      <th>114595</th>\n",
       "      <td>NaN</td>\n",
       "    </tr>\n",
       "    <tr>\n",
       "      <th>118796</th>\n",
       "      <td>NaN</td>\n",
       "    </tr>\n",
       "  </tbody>\n",
       "</table>\n",
       "</div>"
      ],
      "text/plain": [
       "         ID\n",
       "114595  NaN\n",
       "118796  NaN"
      ]
     },
     "execution_count": 29,
     "metadata": {},
     "output_type": "execute_result"
    }
   ],
   "source": [
    "df_raw[df_raw[\"ID\"].duplicated(keep=False)]"
   ]
  },
  {
   "cell_type": "markdown",
   "metadata": {},
   "source": [
    "# mapped_data"
   ]
  },
  {
   "cell_type": "code",
   "execution_count": 30,
   "id": "a798d4ef-ca7f-4354-8cbc-4838603e92b1",
   "metadata": {},
   "outputs": [],
   "source": [
    "# Data import\n",
    "csv_file_path = DATA_DIR / \"processed\" / \"mapped_data.csv\"\n",
    "df_raw = read_csv(csv_file_path)"
   ]
  },
  {
   "cell_type": "code",
   "execution_count": 31,
   "metadata": {},
   "outputs": [
    {
     "data": {
      "text/plain": [
       "(128330, 25)"
      ]
     },
     "execution_count": 31,
     "metadata": {},
     "output_type": "execute_result"
    }
   ],
   "source": [
    "df_raw.shape"
   ]
  },
  {
   "cell_type": "code",
   "execution_count": 32,
   "metadata": {},
   "outputs": [
    {
     "data": {
      "text/plain": [
       "128330"
      ]
     },
     "execution_count": 32,
     "metadata": {},
     "output_type": "execute_result"
    }
   ],
   "source": [
    "df_raw[\"ID\"].nunique()"
   ]
  },
  {
   "cell_type": "code",
   "execution_count": 33,
   "metadata": {},
   "outputs": [],
   "source": [
    "# Split data and context\n",
    "context_columns = [col for col in df_raw.columns if col.startswith(\"Context_\")]\n",
    "df_data = df_raw.drop(columns=context_columns, inplace=False)"
   ]
  },
  {
   "cell_type": "code",
   "execution_count": 34,
   "id": "6ca67668-c32e-46da-a329-78b2db8b68bf",
   "metadata": {},
   "outputs": [
    {
     "data": {
      "text/html": [
       "<div>\n",
       "<style scoped>\n",
       "    .dataframe tbody tr th:only-of-type {\n",
       "        vertical-align: middle;\n",
       "    }\n",
       "\n",
       "    .dataframe tbody tr th {\n",
       "        vertical-align: top;\n",
       "    }\n",
       "\n",
       "    .dataframe thead th {\n",
       "        text-align: right;\n",
       "    }\n",
       "</style>\n",
       "<table border=\"1\" class=\"dataframe\">\n",
       "  <thead>\n",
       "    <tr style=\"text-align: right;\">\n",
       "      <th></th>\n",
       "      <th>column_name</th>\n",
       "      <th>missing_values_total</th>\n",
       "      <th>missing_values_percent</th>\n",
       "      <th>unique_values_count</th>\n",
       "      <th>unique_value_counts</th>\n",
       "    </tr>\n",
       "  </thead>\n",
       "  <tbody>\n",
       "    <tr>\n",
       "      <th>0</th>\n",
       "      <td>ID</td>\n",
       "      <td>0</td>\n",
       "      <td>0.000000</td>\n",
       "      <td>128330</td>\n",
       "      <td>0: 1, 85549: 1, 85562: 1, 85561: 1, 85560: 1, ...</td>\n",
       "    </tr>\n",
       "    <tr>\n",
       "      <th>1</th>\n",
       "      <td>Date</td>\n",
       "      <td>1</td>\n",
       "      <td>0.000779</td>\n",
       "      <td>29699</td>\n",
       "      <td>2021-05-01: 1311, 2021-06-01: 1241, 2021-04-01...</td>\n",
       "    </tr>\n",
       "    <tr>\n",
       "      <th>12</th>\n",
       "      <td>DateY</td>\n",
       "      <td>1</td>\n",
       "      <td>0.000779</td>\n",
       "      <td>11</td>\n",
       "      <td>2023.0: 15133, 2022.0: 14517, 2021.0: 13793, 2...</td>\n",
       "    </tr>\n",
       "    <tr>\n",
       "      <th>13</th>\n",
       "      <td>DateM</td>\n",
       "      <td>1</td>\n",
       "      <td>0.000779</td>\n",
       "      <td>12</td>\n",
       "      <td>5.0: 11632, 6.0: 11550, 7.0: 11398, 8.0: 11100...</td>\n",
       "    </tr>\n",
       "    <tr>\n",
       "      <th>3</th>\n",
       "      <td>Gender</td>\n",
       "      <td>7</td>\n",
       "      <td>0.005455</td>\n",
       "      <td>2</td>\n",
       "      <td>M: 93811, F: 34512</td>\n",
       "    </tr>\n",
       "    <tr>\n",
       "      <th>8</th>\n",
       "      <td>Fatal</td>\n",
       "      <td>71</td>\n",
       "      <td>0.055326</td>\n",
       "      <td>2</td>\n",
       "      <td>0.0: 68489, 1.0: 59770</td>\n",
       "    </tr>\n",
       "    <tr>\n",
       "      <th>10</th>\n",
       "      <td>Method</td>\n",
       "      <td>71</td>\n",
       "      <td>0.055326</td>\n",
       "      <td>11</td>\n",
       "      <td>Hanging: 64233, Drugs: 21404, SelfHarm: 18453,...</td>\n",
       "    </tr>\n",
       "    <tr>\n",
       "      <th>9</th>\n",
       "      <td>Place</td>\n",
       "      <td>107</td>\n",
       "      <td>0.083379</td>\n",
       "      <td>12</td>\n",
       "      <td>House: 79745, Other: 13810, UtilitySpaces: 116...</td>\n",
       "    </tr>\n",
       "    <tr>\n",
       "      <th>2</th>\n",
       "      <td>AgeGroup</td>\n",
       "      <td>1296</td>\n",
       "      <td>1.009896</td>\n",
       "      <td>16</td>\n",
       "      <td>19_24: 13764, 30_34: 13377, 35_39: 13287, 25_2...</td>\n",
       "    </tr>\n",
       "    <tr>\n",
       "      <th>4</th>\n",
       "      <td>Marital</td>\n",
       "      <td>16270</td>\n",
       "      <td>12.678251</td>\n",
       "      <td>7</td>\n",
       "      <td>Single: 50741, Married: 40423, Divorced: 8782,...</td>\n",
       "    </tr>\n",
       "    <tr>\n",
       "      <th>7</th>\n",
       "      <td>Income</td>\n",
       "      <td>55696</td>\n",
       "      <td>43.400608</td>\n",
       "      <td>4</td>\n",
       "      <td>Steady: 25747, Dependent: 18228, Benefits: 167...</td>\n",
       "    </tr>\n",
       "    <tr>\n",
       "      <th>6</th>\n",
       "      <td>WorkInfo</td>\n",
       "      <td>62969</td>\n",
       "      <td>49.068028</td>\n",
       "      <td>4</td>\n",
       "      <td>Employed: 26495, Unemployed: 24645, Student: 1...</td>\n",
       "    </tr>\n",
       "    <tr>\n",
       "      <th>11</th>\n",
       "      <td>Substance</td>\n",
       "      <td>65004</td>\n",
       "      <td>50.653783</td>\n",
       "      <td>4</td>\n",
       "      <td>Alco: 36582, Sober: 16240, OtherSub: 8814, Alc...</td>\n",
       "    </tr>\n",
       "    <tr>\n",
       "      <th>5</th>\n",
       "      <td>Education</td>\n",
       "      <td>88152</td>\n",
       "      <td>68.691654</td>\n",
       "      <td>6</td>\n",
       "      <td>Primary: 12428, Secondary: 12240, Vocational: ...</td>\n",
       "    </tr>\n",
       "    <tr>\n",
       "      <th>14</th>\n",
       "      <td>AbuseInfo</td>\n",
       "      <td>101643</td>\n",
       "      <td>79.204395</td>\n",
       "      <td>3</td>\n",
       "      <td>Alco: 25035, OtherSub: 1278, AlcoOtherSub: 374</td>\n",
       "    </tr>\n",
       "  </tbody>\n",
       "</table>\n",
       "</div>"
      ],
      "text/plain": [
       "   column_name  missing_values_total  missing_values_percent  \\\n",
       "0           ID                     0                0.000000   \n",
       "1         Date                     1                0.000779   \n",
       "12       DateY                     1                0.000779   \n",
       "13       DateM                     1                0.000779   \n",
       "3       Gender                     7                0.005455   \n",
       "8        Fatal                    71                0.055326   \n",
       "10      Method                    71                0.055326   \n",
       "9        Place                   107                0.083379   \n",
       "2     AgeGroup                  1296                1.009896   \n",
       "4      Marital                 16270               12.678251   \n",
       "7       Income                 55696               43.400608   \n",
       "6     WorkInfo                 62969               49.068028   \n",
       "11   Substance                 65004               50.653783   \n",
       "5    Education                 88152               68.691654   \n",
       "14   AbuseInfo                101643               79.204395   \n",
       "\n",
       "    unique_values_count                                unique_value_counts  \n",
       "0                128330  0: 1, 85549: 1, 85562: 1, 85561: 1, 85560: 1, ...  \n",
       "1                 29699  2021-05-01: 1311, 2021-06-01: 1241, 2021-04-01...  \n",
       "12                   11  2023.0: 15133, 2022.0: 14517, 2021.0: 13793, 2...  \n",
       "13                   12  5.0: 11632, 6.0: 11550, 7.0: 11398, 8.0: 11100...  \n",
       "3                     2                                 M: 93811, F: 34512  \n",
       "8                     2                             0.0: 68489, 1.0: 59770  \n",
       "10                   11  Hanging: 64233, Drugs: 21404, SelfHarm: 18453,...  \n",
       "9                    12  House: 79745, Other: 13810, UtilitySpaces: 116...  \n",
       "2                    16  19_24: 13764, 30_34: 13377, 35_39: 13287, 25_2...  \n",
       "4                     7  Single: 50741, Married: 40423, Divorced: 8782,...  \n",
       "7                     4  Steady: 25747, Dependent: 18228, Benefits: 167...  \n",
       "6                     4  Employed: 26495, Unemployed: 24645, Student: 1...  \n",
       "11                    4  Alco: 36582, Sober: 16240, OtherSub: 8814, Alc...  \n",
       "5                     6  Primary: 12428, Secondary: 12240, Vocational: ...  \n",
       "14                    3     Alco: 25035, OtherSub: 1278, AlcoOtherSub: 374  "
      ]
     },
     "execution_count": 34,
     "metadata": {},
     "output_type": "execute_result"
    }
   ],
   "source": [
    "# Data exploration\n",
    "nan_columns_df = analyze_dataframe_columns(df_data)\n",
    "nan_columns_df"
   ]
  },
  {
   "cell_type": "code",
   "execution_count": 35,
   "metadata": {},
   "outputs": [],
   "source": [
    "write_excel(\n",
    "    file_path=RESULTS_DIR / \"nan_exploration.xlsx\",\n",
    "    data=nan_columns_df,\n",
    "    sheet_name=\"nan_columns\",\n",
    "    mode=\"w\",\n",
    "    index=False,\n",
    ")"
   ]
  },
  {
   "cell_type": "code",
   "execution_count": 36,
   "metadata": {},
   "outputs": [
    {
     "data": {
      "text/html": [
       "<div>\n",
       "<style scoped>\n",
       "    .dataframe tbody tr th:only-of-type {\n",
       "        vertical-align: middle;\n",
       "    }\n",
       "\n",
       "    .dataframe tbody tr th {\n",
       "        vertical-align: top;\n",
       "    }\n",
       "\n",
       "    .dataframe thead th {\n",
       "        text-align: right;\n",
       "    }\n",
       "</style>\n",
       "<table border=\"1\" class=\"dataframe\">\n",
       "  <thead>\n",
       "    <tr style=\"text-align: right;\">\n",
       "      <th></th>\n",
       "      <th>NaN_count</th>\n",
       "      <th>Total</th>\n",
       "      <th>Percent</th>\n",
       "    </tr>\n",
       "  </thead>\n",
       "  <tbody>\n",
       "    <tr>\n",
       "      <th>0</th>\n",
       "      <td>0</td>\n",
       "      <td>5558</td>\n",
       "      <td>4.331022</td>\n",
       "    </tr>\n",
       "    <tr>\n",
       "      <th>1</th>\n",
       "      <td>1</td>\n",
       "      <td>21217</td>\n",
       "      <td>16.533157</td>\n",
       "    </tr>\n",
       "    <tr>\n",
       "      <th>2</th>\n",
       "      <td>2</td>\n",
       "      <td>24896</td>\n",
       "      <td>19.399984</td>\n",
       "    </tr>\n",
       "    <tr>\n",
       "      <th>3</th>\n",
       "      <td>3</td>\n",
       "      <td>22917</td>\n",
       "      <td>17.857866</td>\n",
       "    </tr>\n",
       "    <tr>\n",
       "      <th>4</th>\n",
       "      <td>4</td>\n",
       "      <td>24964</td>\n",
       "      <td>19.452973</td>\n",
       "    </tr>\n",
       "    <tr>\n",
       "      <th>5</th>\n",
       "      <td>5</td>\n",
       "      <td>21630</td>\n",
       "      <td>16.854983</td>\n",
       "    </tr>\n",
       "    <tr>\n",
       "      <th>6</th>\n",
       "      <td>6</td>\n",
       "      <td>6725</td>\n",
       "      <td>5.240396</td>\n",
       "    </tr>\n",
       "    <tr>\n",
       "      <th>7</th>\n",
       "      <td>7</td>\n",
       "      <td>345</td>\n",
       "      <td>0.268838</td>\n",
       "    </tr>\n",
       "    <tr>\n",
       "      <th>8</th>\n",
       "      <td>8</td>\n",
       "      <td>9</td>\n",
       "      <td>0.007013</td>\n",
       "    </tr>\n",
       "    <tr>\n",
       "      <th>9</th>\n",
       "      <td>9</td>\n",
       "      <td>8</td>\n",
       "      <td>0.006234</td>\n",
       "    </tr>\n",
       "    <tr>\n",
       "      <th>10</th>\n",
       "      <td>10</td>\n",
       "      <td>60</td>\n",
       "      <td>0.046754</td>\n",
       "    </tr>\n",
       "    <tr>\n",
       "      <th>11</th>\n",
       "      <td>11</td>\n",
       "      <td>0</td>\n",
       "      <td>0.000000</td>\n",
       "    </tr>\n",
       "    <tr>\n",
       "      <th>12</th>\n",
       "      <td>12</td>\n",
       "      <td>0</td>\n",
       "      <td>0.000000</td>\n",
       "    </tr>\n",
       "    <tr>\n",
       "      <th>13</th>\n",
       "      <td>13</td>\n",
       "      <td>0</td>\n",
       "      <td>0.000000</td>\n",
       "    </tr>\n",
       "    <tr>\n",
       "      <th>14</th>\n",
       "      <td>14</td>\n",
       "      <td>1</td>\n",
       "      <td>0.000779</td>\n",
       "    </tr>\n",
       "    <tr>\n",
       "      <th>15</th>\n",
       "      <td>15</td>\n",
       "      <td>0</td>\n",
       "      <td>0.000000</td>\n",
       "    </tr>\n",
       "  </tbody>\n",
       "</table>\n",
       "</div>"
      ],
      "text/plain": [
       "    NaN_count  Total    Percent\n",
       "0           0   5558   4.331022\n",
       "1           1  21217  16.533157\n",
       "2           2  24896  19.399984\n",
       "3           3  22917  17.857866\n",
       "4           4  24964  19.452973\n",
       "5           5  21630  16.854983\n",
       "6           6   6725   5.240396\n",
       "7           7    345   0.268838\n",
       "8           8      9   0.007013\n",
       "9           9      8   0.006234\n",
       "10         10     60   0.046754\n",
       "11         11      0   0.000000\n",
       "12         12      0   0.000000\n",
       "13         13      0   0.000000\n",
       "14         14      1   0.000779\n",
       "15         15      0   0.000000"
      ]
     },
     "execution_count": 36,
     "metadata": {},
     "output_type": "execute_result"
    }
   ],
   "source": [
    "nan_rows_df = nan_exploration_in_rows(df_data)\n",
    "nan_rows_df"
   ]
  },
  {
   "cell_type": "code",
   "execution_count": 37,
   "metadata": {},
   "outputs": [],
   "source": [
    "write_excel(\n",
    "    file_path=RESULTS_DIR / \"nan_exploration.xlsx\",\n",
    "    data=nan_rows_df,\n",
    "    sheet_name=\"nan_rows\",\n",
    "    mode=\"a\",\n",
    "    index=False,\n",
    ")"
   ]
  }
 ],
 "metadata": {
  "kernelspec": {
   "display_name": "base",
   "language": "python",
   "name": "python3"
  },
  "language_info": {
   "codemirror_mode": {
    "name": "ipython",
    "version": 3
   },
   "file_extension": ".py",
   "mimetype": "text/x-python",
   "name": "python",
   "nbconvert_exporter": "python",
   "pygments_lexer": "ipython3",
   "version": "3.11.11"
  }
 },
 "nbformat": 4,
 "nbformat_minor": 2
}
