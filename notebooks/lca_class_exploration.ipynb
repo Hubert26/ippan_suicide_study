{
 "cells": [
  {
   "cell_type": "code",
   "execution_count": 1,
   "metadata": {},
   "outputs": [],
   "source": [
    "import sys\n",
    "from pathlib import Path\n",
    "import pandas as pd\n",
    "import os\n",
    "\n",
    "# Add project root to Python path\n",
    "PROJECT_ROOT = Path.cwd().parent\n",
    "\n",
    "if \"notebooks\" in Path.cwd().parts:\n",
    "    os.chdir(PROJECT_ROOT)\n",
    "    \n",
    "if str(PROJECT_ROOT) not in sys.path:\n",
    "    sys.path.append(str(PROJECT_ROOT))\n",
    "\n",
    "# Import custom utility functions\n",
    "from src.config.utils import (\n",
    "    read_csv,\n",
    "    left_join_excel_sheets,\n",
    "    aggregate_count,\n",
    "    aggregate_sum,\n",
    "    write_excel,\n",
    ")\n",
    "\n",
    "from src.config.config import DATA_DIR, RESULTS_DIR, MOMENT_OF_SUICIDE_FEATURES, SOCIO_DEMOGRAPHIC_FEATURES"
   ]
  },
  {
   "cell_type": "code",
   "execution_count": 40,
   "metadata": {},
   "outputs": [],
   "source": [
    "# Read encoded data\n",
    "csv_file_path = DATA_DIR / \"processed\" / \"encoded_data.csv\"\n",
    "df_encoded = read_csv(csv_file_path)"
   ]
  },
  {
   "cell_type": "code",
   "execution_count": 41,
   "metadata": {},
   "outputs": [],
   "source": [
    "# Read LCA classes\n",
    "excel_file_path = DATA_DIR / \"processed\" / \"lca_group_results.xlsx\"\n",
    "df_lca_classes = left_join_excel_sheets(excel_file_path, base_df=None, on=\"ID\")"
   ]
  },
  {
   "cell_type": "code",
   "execution_count": 42,
   "metadata": {},
   "outputs": [],
   "source": [
    "# Read group set\n",
    "csv_file_path = DATA_DIR / \"processed\" / \"group_set.csv\"\n",
    "df_groups = read_csv(csv_file_path)"
   ]
  },
  {
   "cell_type": "code",
   "execution_count": 43,
   "metadata": {},
   "outputs": [],
   "source": [
    "FEATURES = list(set(SOCIO_DEMOGRAPHIC_FEATURES + MOMENT_OF_SUICIDE_FEATURES))\n",
    "columns_to_aggregate = [\n",
    "    column\n",
    "    for column in df_encoded.columns\n",
    "    if any(column.startswith(feature) for feature in FEATURES)\n",
    "]\n",
    "class_columns = [\n",
    "    column for column in df_lca_classes.columns if column.endswith(\"_class\")\n",
    "]\n",
    "group_columns = [column for column in df_groups.columns if column.startswith(\"Group\")]"
   ]
  },
  {
   "cell_type": "code",
   "execution_count": 44,
   "metadata": {},
   "outputs": [],
   "source": [
    "df = df_encoded.merge(df_lca_classes[[\"ID\"] + class_columns], on=\"ID\", how=\"left\")"
   ]
  },
  {
   "cell_type": "code",
   "execution_count": 45,
   "metadata": {},
   "outputs": [],
   "source": [
    "df = df.merge(df_groups[[\"ID\"] + group_columns], on=\"ID\", how=\"left\")"
   ]
  },
  {
   "cell_type": "code",
   "execution_count": 46,
   "metadata": {},
   "outputs": [],
   "source": [
    "df = df[[\"DateY\"] + class_columns + columns_to_aggregate + group_columns]"
   ]
  },
  {
   "cell_type": "code",
   "execution_count": 47,
   "metadata": {},
   "outputs": [],
   "source": [
    "df[\"DateY\"] = df[\"DateY\"].astype(int)"
   ]
  },
  {
   "cell_type": "code",
   "execution_count": 48,
   "metadata": {},
   "outputs": [
    {
     "data": {
      "text/plain": [
       "Index(['DateY', 'LCA_Group_AF_class', 'LCA_Group_AG_class',\n",
       "       'LCA_Group_AGF_class', 'Gender', 'Marital_Cohabitant',\n",
       "       'Marital_Cohabiting', 'Marital_Divorced', 'Marital_Married',\n",
       "       'Marital_Separated', 'Marital_Single', 'Marital_Widowed',\n",
       "       'Education_Higher', 'Education_LowerSecondary', 'Education_PrePrimary',\n",
       "       'Education_Primary', 'Education_Secondary', 'Education_Vocational',\n",
       "       'WorkInfo_Agriculturalist', 'WorkInfo_Employed', 'WorkInfo_Student',\n",
       "       'WorkInfo_Unemployed', 'Income_Benefits', 'Income_Dependent',\n",
       "       'Income_NoSteady', 'Income_Steady', 'Fatal', 'Place_Forest',\n",
       "       'Place_House', 'Place_Institution', 'Place_Isolation', 'Place_Other',\n",
       "       'Place_PoliceArmy', 'Place_Railway', 'Place_Road', 'Place_School',\n",
       "       'Place_UtilitySpaces', 'Place_WaterRes', 'Place_Work',\n",
       "       'Method_Drowning', 'Method_Drugs', 'Method_Gas', 'Method_Hanging',\n",
       "       'Method_Jumping', 'Method_Other', 'Method_Poisoning',\n",
       "       'Method_Schooting', 'Method_SelfHarm', 'Method_Shooting',\n",
       "       'Method_Vehicle', 'Substance_Alco', 'Substance_AlcoOtherSub',\n",
       "       'Substance_OtherSub', 'Substance_Sober', 'AbuseInfo_Alco',\n",
       "       'AbuseInfo_AlcoOtherSub', 'AbuseInfo_Not', 'AbuseInfo_OtherSub',\n",
       "       'Context_Other', 'Context_FamilyConflict', 'Context_SchoolWork',\n",
       "       'Context_MentalHealth', 'Context_HealthLoss', 'Context_HeartBreak',\n",
       "       'Context_CloseDeath', 'Context_Finances', 'Context_Crime',\n",
       "       'Context_Disability', 'Group_A', 'Group_AG', 'Group_AF', 'Group_AGF'],\n",
       "      dtype='object')"
      ]
     },
     "execution_count": 48,
     "metadata": {},
     "output_type": "execute_result"
    }
   ],
   "source": [
    "df.columns"
   ]
  },
  {
   "cell_type": "markdown",
   "metadata": {},
   "source": [
    "# Group_AG"
   ]
  },
  {
   "cell_type": "code",
   "execution_count": 49,
   "metadata": {},
   "outputs": [],
   "source": [
    "group_columns = [\"Group_AF\", \"Group_AG\", \"Group_AGF\"]"
   ]
  },
  {
   "cell_type": "code",
   "execution_count": 50,
   "metadata": {},
   "outputs": [],
   "source": [
    "for group_column in group_columns:\n",
    "    results_path = (\n",
    "        RESULTS_DIR\n",
    "        / \"lca_class_exploration\"\n",
    "        / f\"lca_class_exploration_{group_column}.xlsx\"\n",
    "    )\n",
    "\n",
    "    # In group\n",
    "    count_result = aggregate_count(\n",
    "        df,\n",
    "        group_columns=[group_column],\n",
    "        value_columns=[f\"LCA_{group_column}_class\"],\n",
    "        header=\"Count\",\n",
    "    )\n",
    "\n",
    "    write_excel(\n",
    "        file_path=results_path,\n",
    "        data=count_result,\n",
    "        sheet_name=\"cr\",\n",
    "        mode=\"w\",\n",
    "        index=True,\n",
    "    )\n",
    "\n",
    "    groups = sorted(list(set(df[group_column])))\n",
    "\n",
    "    for group in groups:\n",
    "        df_exploration = df[df[group_column] == group]\n",
    "\n",
    "        # In Features\n",
    "        feature_result = aggregate_sum(\n",
    "            df_exploration,\n",
    "            group_columns=[f\"LCA_{group_column}_class\"],\n",
    "            value_columns=columns_to_aggregate,\n",
    "        )\n",
    "        feature_result = feature_result.sort_index()\n",
    "\n",
    "        write_excel(\n",
    "            file_path=results_path,\n",
    "            data=feature_result,\n",
    "            sheet_name=f\"fc_{group}\",\n",
    "            mode=\"a\",\n",
    "            index=True,\n",
    "        )\n",
    "\n",
    "        # In Years\n",
    "        count_years_result = aggregate_count(\n",
    "            df_exploration,\n",
    "            group_columns=[f\"LCA_{group_column}_class\"],\n",
    "            value_columns=[\"DateY\"],\n",
    "        )\n",
    "        count_years_result = count_years_result.sort_index()\n",
    "\n",
    "        write_excel(\n",
    "            file_path=results_path,\n",
    "            data=count_years_result,\n",
    "            sheet_name=f\"cy_{group}\",\n",
    "            mode=\"a\",\n",
    "            index=True,\n",
    "        )\n"
   ]
  }
 ],
 "metadata": {
  "kernelspec": {
   "display_name": "base",
   "language": "python",
   "name": "python3"
  },
  "language_info": {
   "codemirror_mode": {
    "name": "ipython",
    "version": 3
   },
   "file_extension": ".py",
   "mimetype": "text/x-python",
   "name": "python",
   "nbconvert_exporter": "python",
   "pygments_lexer": "ipython3",
   "version": "3.11.11"
  }
 },
 "nbformat": 4,
 "nbformat_minor": 2
}
